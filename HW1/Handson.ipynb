{
 "cells": [
  {
   "cell_type": "markdown",
   "metadata": {},
   "source": [
    "# PHYS 105A:  Introduction to Scientific Computing  \n",
    "## Unix shells, Remote Login, Version Control, etc\n"
   ]
  },
  {
   "cell_type": "markdown",
   "metadata": {},
   "source": [
    "In order to follow this hands-on exercise, you will need to have the following software installed on your system:\n",
    "\n",
    "* Terminal (built-in for windows, mac, and linux)\n",
    "* A Unix shell (Windows Subsystem for Linux; built-in for mac and linux)\n",
    "* Git\n",
    "* Jupyter Notebook or Jupyter Lab\n",
    "* Python 3.x\n",
    "\n",
    "The easiest way to install these software is to use [Anaconda](https://www.anaconda.com/)."
   ]
  },
  {
   "cell_type": "markdown",
   "metadata": {},
   "source": [
    "## Terminal and Unix Shell\n",
    "\n",
    "This step is trivial if you are on Linux or on a Mac.  Simply open up your terminal and you will be given `bash` or `zsh`.\n",
    "\n",
    "Or you have a laptop/computer running Linux.\n",
    "\n",
    "If you are on Windows, you may start `cmd`, \"Windows PowerShell\", or the \"Windows Subsystem for Linux\".\n",
    "The former two don't give you a Unix shell, but you can still use it to navigate your file system, run `git`, etc.\n",
    "The last option is actually running a full Ubuntu environment that will give you `bash`."
   ]
  },
  {
   "cell_type": "markdown",
   "metadata": {},
   "source": [
    "## Once you are on a bash/zsh, try the following commands\n",
    "\n",
    "    echo \"Hello World\" # the famous hello world program!\n",
    "    pwd # shows the current directory\n",
    "    ls # list all files\n",
    "    echo \"Hello World\" > hw.txt # stream text into a file\n",
    "    ls\n",
    "    cat hw.txt\n",
    "    mv hw.txt hello.txt\n",
    "    cp hello.txt world.txt\n",
    "    \n",
    "Awesome!  You are now a shell user!"
   ]
  },
  {
   "cell_type": "markdown",
   "metadata": {},
   "source": [
    "## Git \n",
    "\n",
    "### Pre-request\n",
    "\n",
    "* Have a GitHub account\n",
    "* Have Jupyter Notebook/Lab set up on your machine\n",
    "* Have `git` (can be installed by conda)\n",
    "\n",
    "### Set up development environment\n",
    "\n",
    "* `git config --global user.name \"John Doe\"`\n",
    "* `git config --global user.email johndoe@arizona.edu`\n",
    "\n",
    "[Reference](https://git-scm.com/book/en/v2/Getting-Started-First-Time-Git-Setup)"
   ]
  },
  {
   "cell_type": "markdown",
   "metadata": {},
   "source": [
    "## Create your own repository\n",
    "\n",
    "    mkdir myrepo\n",
    "    cd myrepo\n",
    "    git init\n",
    "    touch test.txt\n",
    "    git add test.txt\n",
    "    git commit -m 'my first commit'\n",
    "    git remote add origin git@github.com:username/repository.git\n",
    "    git branch -M main\n",
    "    git push -u origin main\n",
    "    \n",
    "You probably need to add a SSH key to your GitHub account first.\n",
    "Follow instructions in your new repository"
   ]
  },
  {
   "cell_type": "markdown",
   "metadata": {},
   "source": [
    "## Jupyter Notebook\n",
    "\n",
    "A Jupyter Notebook is a JSON document containing multiple cells of text and codes.  These cells maybe:\n",
    "\n",
    "* Markdown documentation\n",
    "* Codes in `python`, `R`, or even `bash`!\n",
    "* Output of the codes\n",
    "* RAW text"
   ]
  },
  {
   "cell_type": "markdown",
   "metadata": {},
   "source": [
    "## Markdown Demo\n",
    "\n",
    "This is a markdown demo.  Try edit this cell to see how things work.\n",
    "\n",
    "See https://guides.github.com/features/mastering-markdown/ for more details.\n",
    "\n",
    "\n",
    "# This is an `<h1>` tag\n",
    "## This is an `<h2>` tag\n",
    "###### This is an `<h6>` tag\n",
    "\n",
    "*This text will be italic*\n",
    "_This will also be italic_\n",
    "\n",
    "**This text will be bold**\n",
    "__This will also be bold__\n",
    "\n",
    "_You **can** combine them_\n",
    "\n",
    "* Item 1\n",
    "* Item 2\n",
    "  * Item 2a\n",
    "  * Item 2b\n",
    "  \n",
    "1. Item 1\n",
    "1. Item 2\n",
    "1. Item 3\n",
    "   1. Item 3a\n",
    "   1. Item 3b"
   ]
  },
  {
   "cell_type": "code",
   "execution_count": 2,
   "metadata": {},
   "outputs": [
    {
     "data": {
      "text/plain": [
       "10"
      ]
     },
     "execution_count": 2,
     "metadata": {},
     "output_type": "execute_result"
    }
   ],
   "source": [
    "## Python and Jupyter\n",
    "\n",
    "# We can finally try jupyter and python as your calculator.\n",
    "# Type some math formulas, then press Shift+Enter, jupyter will interpret your equations by python and print the output.\n",
    "\n",
    "1 + 2 + 3 + 4"
   ]
  },
  {
   "cell_type": "code",
   "execution_count": 3,
   "metadata": {},
   "outputs": [
    {
     "data": {
      "text/plain": [
       "4"
      ]
     },
     "execution_count": 3,
     "metadata": {},
     "output_type": "execute_result"
    }
   ],
   "source": [
    "# EXERCISE: Now, type your own equation here and see the outcome.\n",
    "\n",
    "2+2"
   ]
  },
  {
   "cell_type": "code",
   "execution_count": null,
   "metadata": {
    "slideshow": {
     "slide_type": ""
    }
   },
   "outputs": [],
   "source": [
    "# EXERCISE: Try to create more cells and type out more equations.\n",
    "\n",
    "# Note that Jupyter supports \"shortcuts\"/\"hotkeys\".\n",
    "\n",
    "# When you are typing in a cell, there is a green box surrounding the cell.\n",
    "# You may click outside the cell or press \"ESC\" to escape from the editing mode.\n",
    "# The green box will turn blue.\n",
    "\n",
    "# You can then press \"A\" or \"B\" to create additional cells above or below the current active cell."
   ]
  },
  {
   "cell_type": "code",
   "execution_count": null,
   "metadata": {},
   "outputs": [],
   "source": [
    "# One of the most powerful things programming languages are able to do is to assign names to values.\n",
    "# This is in contrast to spreadsheet software where each \"cell\" is prenamed (e.g., A1, B6).\n",
    "# A value associated with a name is called a variable.\n",
    "# In python, we simply use the equal sign to assign a value to a variable.\n",
    "\n",
    "a = 1\n",
    "b = 1 + 1\n",
    "\n",
    "# We can then reuse these variables.\n",
    "a + b + 3"
   ]
  },
  {
   "cell_type": "code",
   "execution_count": 4,
   "metadata": {},
   "outputs": [
    {
     "data": {
      "text/plain": [
       "9"
      ]
     },
     "execution_count": 4,
     "metadata": {},
     "output_type": "execute_result"
    }
   ],
   "source": [
    "# EXERCISE: create your own variables and check their values.\n",
    "\n",
    "A=2\n",
    "B=2\n",
    "A+B+5"
   ]
  },
  {
   "cell_type": "code",
   "execution_count": null,
   "metadata": {},
   "outputs": [],
   "source": [
    "# Sometime it is convenient to have mutiple output per cell.\n",
    "# In such a case, you may use the python function `print()`\n",
    "# Or the Jupyter function `display()`\n",
    "\n",
    "print(1, 2)\n",
    "print(a, b)\n",
    "\n",
    "display(1, 2)\n",
    "display(a, b)"
   ]
  },
  {
   "cell_type": "code",
   "execution_count": 5,
   "metadata": {},
   "outputs": [
    {
     "name": "stdout",
     "output_type": "stream",
     "text": [
      "3.4\n",
      "2 2\n"
     ]
    },
    {
     "data": {
      "text/plain": [
       "3"
      ]
     },
     "metadata": {},
     "output_type": "display_data"
    },
    {
     "data": {
      "text/plain": [
       "4"
      ]
     },
     "metadata": {},
     "output_type": "display_data"
    },
    {
     "data": {
      "text/plain": [
       "2"
      ]
     },
     "metadata": {},
     "output_type": "display_data"
    },
    {
     "data": {
      "text/plain": [
       "2"
      ]
     },
     "metadata": {},
     "output_type": "display_data"
    }
   ],
   "source": [
    "# EXERCISE: print and display results of equations\n",
    "print(3.4)\n",
    "print(A,B)\n",
    "\n",
    "display(3,4)\n",
    "display(A,B)"
   ]
  },
  {
   "cell_type": "code",
   "execution_count": 10,
   "metadata": {},
   "outputs": [
    {
     "name": "stdout",
     "output_type": "stream",
     "text": [
      "Name: ken\n",
      "Numbers: 1 2 3\n"
     ]
    }
   ],
   "source": [
    "# Speaking of print(), in python, you may use both single or double quotes to create \"string\" of characters.\n",
    "\n",
    "'This is a string of characters.'\n",
    "\n",
    "\"This is also a string of characters.\"\n",
    "\n",
    "Name = \"ken\"\n",
    "print(\"Name\" + \":\",Name)\n",
    "# You can mix strings, numbers, etc in a single print statement.\n",
    "print(\"Num\"+'bers:', 1, 2, 3)"
   ]
  },
  {
   "cell_type": "code",
   "execution_count": 13,
   "metadata": {},
   "outputs": [
    {
     "name": "stdout",
     "output_type": "stream",
     "text": [
      "Name is Anna\n"
     ]
    }
   ],
   "source": [
    "# EXERCISE: assign a string to a variable and then print it\n",
    "\n",
    "Name=\"Anna\"\n",
    "print(\"Name\",'is',Name)"
   ]
  },
  {
   "cell_type": "code",
   "execution_count": 16,
   "metadata": {},
   "outputs": [
    {
     "name": "stdout",
     "output_type": "stream",
     "text": [
      "30\n",
      "1000\n",
      "3.3333333333333335\n",
      "3\n"
     ]
    }
   ],
   "source": [
    "# In the lecture, we learned the different math operations in python: +, -, *, **, /, and //.\n",
    "# Try to use them yourself.\n",
    "# Pay special attention to the ** and // operators.\n",
    "\n",
    "# * and ** are different\n",
    "print(10*3)\n",
    "print(10**3)\n",
    "\n",
    "# / and // are different\n",
    "print(10/3)\n",
    "print(10//3)"
   ]
  },
  {
   "cell_type": "code",
   "execution_count": 37,
   "metadata": {},
   "outputs": [
    {
     "name": "stdout",
     "output_type": "stream",
     "text": [
      "10000\n",
      "2.5e-38\n",
      "100000000000000000000000000000000000000000000000000000000000\n",
      "1.4285714285714287e-38\n"
     ]
    }
   ],
   "source": [
    "# EXERCISE: try out *, **, /, and // yourself.\n",
    "# What if you use them for very big numbers?  Very small numbers?\n",
    "# Do you see any limitation?\n",
    "\n",
    "print(100*100)\n",
    "print(10**-37/4)\n",
    "print(100*1000000000000000000000000000000000000000000000000000000000)\n",
    "print(10**-37/7)\n",
    "\n",
    "\n",
    "'''\n",
    "=======What I found==========\n",
    "When the number is very small, the outcome would be represent with scientific notation. \n",
    "There don't have any limitation whether the numbers is very big or very small.\n",
    "'''\n"
   ]
  },
  {
   "cell_type": "code",
   "execution_count": 38,
   "metadata": {},
   "outputs": [
    {
     "name": "stdout",
     "output_type": "stream",
     "text": [
      "1000000\n",
      "1000000\n",
      "1000000\n"
     ]
    }
   ],
   "source": [
    "# COOL TRICK: In python, you use underscores to help writing very big numbers.\n",
    "# E.g., python knows that 1_000_000 is 1000_000 is 1000000.\n",
    "\n",
    "print(1_000_000)\n",
    "print(1000_000)\n",
    "print(1000000)"
   ]
  },
  {
   "cell_type": "code",
   "execution_count": 41,
   "metadata": {},
   "outputs": [
    {
     "name": "stdout",
     "output_type": "stream",
     "text": [
      "120000000.0\n"
     ]
    }
   ],
   "source": [
    "# You can of course use scientific notation for numbers\n",
    "\n",
    "c = 1.2e8\n",
    "print(c)\n",
    "\n",
    "# here c is a float number"
   ]
  },
  {
   "cell_type": "code",
   "execution_count": 42,
   "metadata": {},
   "outputs": [
    {
     "name": "stdout",
     "output_type": "stream",
     "text": [
      "3.3333333333333335\n",
      "3\n",
      "3\n"
     ]
    }
   ],
   "source": [
    "# The integer division is logically equivalent to applying a floor function to the floating point division.\n",
    "# However, the floor function is not a default (built-in) function.\n",
    "# You need to import it from the math package:\n",
    "\n",
    "from math import floor\n",
    "\n",
    "print(10/3)\n",
    "print(10//3)\n",
    "print(floor(10/3))"
   ]
  },
  {
   "cell_type": "code",
   "execution_count": 43,
   "metadata": {},
   "outputs": [
    {
     "name": "stdout",
     "output_type": "stream",
     "text": [
      "3.3333333333333335\n",
      "3\n",
      "3\n"
     ]
    }
   ],
   "source": [
    "# EXERCISE: try to use the floor() function yourself\n",
    "\n",
    "print(20/6)\n",
    "print(20//6)\n",
    "print(floor(20/6))"
   ]
  },
  {
   "cell_type": "code",
   "execution_count": 44,
   "metadata": {},
   "outputs": [
    {
     "name": "stdout",
     "output_type": "stream",
     "text": [
      "3.141592653589793\n",
      "1.2246467991473532e-16\n",
      "-1.0\n"
     ]
    }
   ],
   "source": [
    "# There are many useful functions and constants in the math package.\n",
    "# See https://docs.python.org/3/library/math.html\n",
    "\n",
    "from math import pi, sin, cos\n",
    "\n",
    "print(pi)\n",
    "print(sin(pi))\n",
    "print(cos(pi))"
   ]
  },
  {
   "cell_type": "code",
   "execution_count": 49,
   "metadata": {},
   "outputs": [
    {
     "name": "stdout",
     "output_type": "stream",
     "text": [
      "60\n",
      "1.0471975511965976\n",
      "0.5000000000000001\n"
     ]
    }
   ],
   "source": [
    "# EXERCISE: what if you want to know cosine of 60 degree?\n",
    "\n",
    "from math import cos, radians\n",
    "\n",
    "degree = 60\n",
    "radius = radians(degree)\n",
    "print(degree)\n",
    "print(radius)\n",
    "print(cos(radius))"
   ]
  },
  {
   "cell_type": "code",
   "execution_count": 51,
   "metadata": {},
   "outputs": [
    {
     "name": "stdout",
     "output_type": "stream",
     "text": [
      "0.9993908270190958\n"
     ]
    }
   ],
   "source": [
    "from math import cos, radians\n",
    "\n",
    "degree=radians(2)\n",
    "print(cos(degree))"
   ]
  },
  {
   "cell_type": "code",
   "execution_count": 70,
   "metadata": {},
   "outputs": [
    {
     "name": "stdout",
     "output_type": "stream",
     "text": [
      "Return the absolute value of -50: 50.0\n",
      "Return an accurate floating point sum of values in the iterable.: 1.7\n",
      "Return True if x is neither an infinity nor a NaN, and False otherwise. True\n",
      "Return True if x is a NaN (not a number), and False otherwise. True\n",
      "Return the least common multiple of the specified integer arguments. 36\n"
     ]
    }
   ],
   "source": [
    "# assignment: test 5 additional functions from the math package below\n",
    "# write one-line comment about what you are doing\n",
    "# Python math package: https://docs.python.org/3/library/math.html\n",
    "\n",
    "import math\n",
    "\n",
    "# Return the absolute value of -50\n",
    "print(\"Return the absolute value of -50:\",math.fabs(-50))\n",
    "\n",
    "#Return an accurate floating point sum of values in the iterable.\n",
    "print(\"Return an accurate floating point sum of values in the iterable.:\",math.fsum([.2,.4,.5,.6]))\n",
    "\n",
    "#Return True if x is neither an infinity nor a NaN, and False otherwise.\n",
    "print(\"Return True if x is neither an infinity nor a NaN, and False otherwise.\",math.isfinite(5))\n",
    "\n",
    "#Return True if x is a NaN (not a number), and False otherwise.\n",
    "print(\"Return True if x is a NaN (not a number), and False otherwise.\",math.isnan(float(\"NaN\")))\n",
    "\n",
    "#Return the least common multiple of the specified integer arguments. \n",
    "print(\"Return the least common multiple of the specified integer arguments.\",math.lcm(6,12,18))"
   ]
  },
  {
   "cell_type": "code",
   "execution_count": null,
   "metadata": {},
   "outputs": [],
   "source": [
    "# assignment: Create your repository in our organization\n",
    "    \n",
    "# repeat what we did from last class, but this time do it in our organization\n",
    "# export this ipynb file into a python file, add it in the Git tree\n",
    "# commit and push, you will use this when you collaborate for project\n"
   ]
  },
  {
   "cell_type": "code",
   "execution_count": null,
   "metadata": {},
   "outputs": [],
   "source": [
    "# assignment: use vim to edit table.txt, make sure you pull the latest class repository\n",
    "# 1. delete line number 10, 20, 30, ... (line number in the left first column)\n",
    "'''\n",
    "I recorded it with Esc+qa then delete line number 10 (use dd) and line number 20, then enter esc+q.\n",
    "After the recorded had been completed, I entered esc+300@a to repeat what I've done in the previous section.\n",
    "'''\n",
    "# 2. swap column 2 and column 3 (RA and DEC)\n",
    "'''\n",
    "I use Ctrl+V to select the entire column 3 then entered x to cut. \n",
    "Move to the start of column 2 use p to paste.\n",
    "'''\n",
    "# 3. move the 5th number in column 4 (Det) to be the first number for every line\n",
    "'''\n",
    "I select 5th number by v+G, then press p to paste to the frist row of column 4.\n",
    "'''\n",
    "# 4. fill the empty blocks with \"-\" for every line\n",
    "'''\n",
    "I first use ctrl+v to select a column, then entered \"y\", then do \":%s/\\%V /-/g\"\n",
    "'''\n",
    "# write down here how you did it"
   ]
  },
  {
   "cell_type": "code",
   "execution_count": null,
   "metadata": {},
   "outputs": [],
   "source": [
    "# compress this ipynb file with your table.txt file and submit through D2L"
   ]
  }
 ],
 "metadata": {
  "celltoolbar": "Slideshow",
  "kernelspec": {
   "display_name": "Python 3 (ipykernel)",
   "language": "python",
   "name": "python3"
  },
  "language_info": {
   "codemirror_mode": {
    "name": "ipython",
    "version": 3
   },
   "file_extension": ".py",
   "mimetype": "text/x-python",
   "name": "python",
   "nbconvert_exporter": "python",
   "pygments_lexer": "ipython3",
   "version": "3.9.13"
  }
 },
 "nbformat": 4,
 "nbformat_minor": 4
}
